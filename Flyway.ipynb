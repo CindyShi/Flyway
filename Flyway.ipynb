{
    "metadata": {
        "kernelspec": {
            "name": "SQL",
            "display_name": "SQL",
            "language": "sql"
        },
        "language_info": {
            "name": "sql",
            "version": ""
        }
    },
    "nbformat_minor": 2,
    "nbformat": 4,
    "cells": [
        {
            "cell_type": "markdown",
            "source": [
                "# Connect to our postgres database"
            ],
            "metadata": {
                "azdata_cell_guid": "a905af77-7011-4684-ba7c-0a08a32c0745"
            }
        },
        {
            "cell_type": "code",
            "source": [
                "SELECT version(), current_database();"
            ],
            "metadata": {
                "azdata_cell_guid": "fa8d4f14-dcc9-4b1e-bc54-0d25302ffd66"
            },
            "outputs": [
                {
                    "output_type": "display_data",
                    "data": {
                        "text/html": "(1 row(s) affected)"
                    },
                    "metadata": {}
                },
                {
                    "output_type": "display_data",
                    "data": {
                        "text/html": "Total execution time: 00:00:00.468"
                    },
                    "metadata": {}
                },
                {
                    "output_type": "execute_result",
                    "metadata": {},
                    "execution_count": 20,
                    "data": {
                        "application/vnd.dataresource+json": {
                            "schema": {
                                "fields": [
                                    {
                                        "name": "version"
                                    },
                                    {
                                        "name": "current_database"
                                    }
                                ]
                            },
                            "data": [
                                {
                                    "0": "PostgreSQL 11.6, compiled by Visual C++ build 1800, 64-bit",
                                    "1": "postgres"
                                }
                            ]
                        },
                        "text/html": "<table><tr><th>version</th><th>current_database</th></tr><tr><td>PostgreSQL 11.6, compiled by Visual C++ build 1800, 64-bit</td><td>postgres</td></tr></table>"
                    }
                }
            ],
            "execution_count": 20
        },
        {
            "cell_type": "code",
            "source": [
                "SELECT table_schema, table_name\r\n",
                "FROM information_schema.tables\r\n",
                "WHERE table_schema not in ( 'pg_catalog' , 'information_schema' );"
            ],
            "metadata": {
                "azdata_cell_guid": "c5de6f94-2296-4109-8395-372d9c85f051"
            },
            "outputs": [
                {
                    "output_type": "display_data",
                    "data": {
                        "text/html": "(2 row(s) affected)"
                    },
                    "metadata": {}
                },
                {
                    "output_type": "display_data",
                    "data": {
                        "text/html": "Total execution time: 00:00:00.470"
                    },
                    "metadata": {}
                },
                {
                    "output_type": "execute_result",
                    "metadata": {},
                    "execution_count": 21,
                    "data": {
                        "application/vnd.dataresource+json": {
                            "schema": {
                                "fields": [
                                    {
                                        "name": "table_schema"
                                    },
                                    {
                                        "name": "table_name"
                                    }
                                ]
                            },
                            "data": [
                                {
                                    "0": "public",
                                    "1": "pg_stat_statements"
                                },
                                {
                                    "0": "public",
                                    "1": "pg_buffercache"
                                }
                            ]
                        },
                        "text/html": "<table><tr><th>table_schema</th><th>table_name</th></tr><tr><td>public</td><td>pg_stat_statements</td></tr><tr><td>public</td><td>pg_buffercache</td></tr></table>"
                    }
                }
            ],
            "execution_count": 21
        },
        {
            "cell_type": "markdown",
            "source": [
                "## Set up Flyway\r\n",
                "\r\n",
                "1. Download and extract flyway for your platform - [https://flywaydb.org/download/](https://flywaydb.org/download/)\r\n",
                "1. Edit \\<install-dir>/conf/flyway.conf to connect to a database you will use for testing\r\n",
                "    * For this demo I am connecting to a postgres database hosted in Azure. My test instance has no sensitive data, so for convenience I stored connection and security information in my flyway.conf file:\r\n",
                "        * I set: *flyway.url=jdbc:postgresql://postgres-demo.postgres.database.azure.com/postgres*\r\n",
                "        * I also set defaults for *flyway.user* and *flyway.password* arguments\r\n",
                "        * I set: *flyway.locations=filesystem:C:\\Git\\Flyway\\migrations* "
            ],
            "metadata": {
                "azdata_cell_guid": "d0ee4612-f4c3-4151-a7e4-efe0d2df971a"
            }
        },
        {
            "cell_type": "markdown",
            "source": [
                "# Flyway info\r\n",
                "\r\n",
                "From a terminal:\r\n",
                "\r\n",
                "    flyway info\r\n",
                "\r\n",
                "[https://flywaydb.org/documentation/commandline/info](https://flywaydb.org/documentation/commandline/info)\r\n",
                "\r\n",
                "    flyway migrate\r\n",
                "\r\n",
                "[https://flywaydb.org/documentation/commandline/migrate](https://flywaydb.org/documentation/commandline/migrate)"
            ],
            "metadata": {
                "azdata_cell_guid": "a9d847a2-9dd8-4363-938b-3204ed45bfcc"
            }
        }
    ]
}